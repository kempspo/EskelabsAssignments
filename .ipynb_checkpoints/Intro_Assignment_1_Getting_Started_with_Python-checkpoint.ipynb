{
 "cells": [
  {
   "cell_type": "markdown",
   "metadata": {
    "colab_type": "text",
    "id": "51dZwqDNc9x6"
   },
   "source": [
    "# Data Science - Getting Started with Python\n",
    "\n",
    "Following are exercises you should complete. Workflow:\n",
    "\n",
    "1. Complete the exercises! This means fill out the code cells, and run them (shift-enter or click the play button that appears when you're in one of them)\n",
    "2. Take a look at your work, and write comments/add text cells as appropriate to explain\n",
    "3. Upload the notebook to your GitHub repository and submit a link [here](https://docs.google.com/forms/d/e/1FAIpQLScdlw-GN3tHPHxROIulxoPmxXmvK-UmXco3lgjiJ0Ckltn6QA/viewform?usp=sf_link)"
   ]
  },
  {
   "cell_type": "markdown",
   "metadata": {
    "colab_type": "text",
    "id": "I6biutgwdgpb"
   },
   "source": [
    "## Exercise 1 - A bit of Math\n",
    "\n",
    "For these \"word\" problems, use Python to clearly solve them. Your code will \"show your work\" - use good variable names! To show your answers you should write a `print()` statement at the end.\n",
    "\n",
    "### a) It's a gas\n",
    "\n",
    "A taxi driver is calculating their profit over two weeks by adding up the fares they charge and subtracting the cost of gas. The price of gas changes over time - it was `$3.52`/gallon the first week and `$3.57`/gallon this second week. Their car gets 20 miles per gallon.\n",
    "\n",
    "For the first week the driver had a total of 23 passengers with average `$29` fare each, and drove a total of 160 miles. For the second week they had 17 passengers with average `$30` fare each, and drove a total of 220 miles. Assume that for both weeks they purchase all the gas needed during that week (i.e. they refuel every week to maintain a constant level of gas in the tank).\n",
    "\n",
    "Based on the above, answer the following questions:\n",
    "\n",
    "- What is their total profit over both weeks?\n",
    "- During which week was their average (mean) profit per passenger higher?\n"
   ]
  },
  {
   "cell_type": "code",
   "execution_count": 39,
   "metadata": {
    "colab": {},
    "colab_type": "code",
    "id": "CWJeYQW6AoGf"
   },
   "outputs": [
    {
     "name": "stdout",
     "output_type": "stream",
     "text": [
      "Gross profit: $1177.00\n",
      "Net profit: $1109.57\n",
      "Week 1 Average Profit per Passenger: $27.78\n",
      "Week 2 Average Profit per Passenger: $27.69\n"
     ]
    }
   ],
   "source": [
    "# your code here\n",
    "price1 = 3.52\n",
    "price2 = 3.57\n",
    "mpg = 20\n",
    "passengers1 = 23\n",
    "avgfare1 = 29\n",
    "miles1 = 160\n",
    "passengers2 = 17\n",
    "avgfare2 = 30\n",
    "miles2 = 220\n",
    "\n",
    "week1 = passengers1 * avgfare1\n",
    "week2 = passengers2 * avgfare2\n",
    "gallons1 = miles1 / mpg\n",
    "gallons2 = miles2 / mpg\n",
    "\n",
    "gross1 = passengers1 * avgfare1\n",
    "gross2 = passengers2 * avgfare2\n",
    "\n",
    "cost1 = price1 * gallons1\n",
    "cost2 = price2 * gallons2\n",
    "\n",
    "grossProfit = gross1 + gross2\n",
    "gasPrice = cost1 + cost2\n",
    "netProfit = grossProfit - gasPrice\n",
    "\n",
    "print(\"Gross profit: ${:.2f}\".format(grossProfit))\n",
    "print(\"Net profit: ${:.2f}\".format(netProfit))\n",
    "\n",
    "week1PPP = (gross1 - cost1) / passengers1\n",
    "week2PPP = (gross2 - cost2) / passengers2\n",
    "\n",
    "print(\"Week 1 Average Profit per Passenger: ${:.2f}\".format(week1PPP))\n",
    "print(\"Week 2 Average Profit per Passenger: ${:.2f}\".format(week2PPP))"
   ]
  },
  {
   "cell_type": "markdown",
   "metadata": {
    "colab_type": "text",
    "id": "0l4bUPHmR5Ko"
   },
   "source": [
    "### b) Mo' money...\n",
    "\n",
    "A cash drawer contains 160 bills, all 10s and 50s. The total value of the 10s and 50s is $1,760.\n",
    "\n",
    "How many of each type of bill are in the drawer? You can figure this out by trial and error (or by doing algebra with pencil and paper), but try to use loops and conditionals to check a plausible possibilities and stop when you find the correct one."
   ]
  },
  {
   "cell_type": "code",
   "execution_count": 43,
   "metadata": {
    "colab": {},
    "colab_type": "code",
    "id": "Q2Atz_kyR8_6"
   },
   "outputs": [
    {
     "name": "stdout",
     "output_type": "stream",
     "text": [
      "10s:  156 \n",
      "50s:  4\n"
     ]
    }
   ],
   "source": [
    "# your code here\n",
    "\n",
    "for tens in range(0,160):\n",
    "    for fifties in range(0,160):\n",
    "        if tens + fifties != 160:\n",
    "            continue\n",
    "        if (fifties * 50) + (tens * 10) != 1760:\n",
    "            continue\n",
    "        print(\"10s: \", tens, \"\\n50s: \", fifties)"
   ]
  },
  {
   "cell_type": "markdown",
   "metadata": {
    "colab_type": "text",
    "id": "UCFtX_q9aQlc"
   },
   "source": [
    "## Exercise 2 - Drawing a plot\n",
    "\n",
    "Use NumPy and Matplotlib to draw a scatterplot of uniform random `(x, y)` values all drawn from the `[0, 1]` interval. Helpful documentation:\n",
    "\n",
    "*   https://matplotlib.org/tutorials/index.html\n",
    "*   https://docs.scipy.org/doc/numpy/user/quickstart.html\n",
    "\n",
    "Stretch goal - draw more plots! You can refer to the [Matplotlib gallery](https://matplotlib.org/gallery.html) for inspiration, but don't just reproduce something - try to apply it to your own data.\n",
    "\n",
    "How to get data? There's *many* ways, but a good place to get started is with [sklearn.datasets](http://scikit-learn.org/stable/datasets/index.html):\n",
    "\n",
    "```\n",
    "from sklearn import datasets\n",
    "dir(datasets)\n",
    "```"
   ]
  },
  {
   "cell_type": "code",
   "execution_count": 7,
   "metadata": {
    "colab": {},
    "colab_type": "code",
    "id": "pNEb09gMaltL"
   },
   "outputs": [
    {
     "data": {
      "text/plain": [
       "<matplotlib.collections.PathCollection at 0x219497de278>"
      ]
     },
     "execution_count": 7,
     "metadata": {},
     "output_type": "execute_result"
    },
    {
     "data": {
      "image/png": "[encoded data removed]",
      "text/plain": [
       "<Figure size 432x288 with 1 Axes>"
      ]
     },
     "metadata": {
      "needs_background": "light"
     },
     "output_type": "display_data"
    }
   ],
   "source": [
    "import matplotlib.pyplot as plt\n",
    "import numpy as np\n",
    "%matplotlib inline\n",
    "\n",
    "# your code here\n",
    "x = np.random.rand(3)\n",
    "y = np.random.rand(3)\n",
    "\n",
    "plt.xlim(0,1)\n",
    "plt.ylim(0,1)\n",
    "plt.scatter(x, y)"
   ]
  },
  {
   "cell_type": "code",
   "execution_count": 8,
   "metadata": {},
   "outputs": [],
   "source": [
    "from sklearn.datasets import load_iris"
   ]
  },
  {
   "cell_type": "code",
   "execution_count": 29,
   "metadata": {},
   "outputs": [
    {
     "data": {
      "text/plain": [
       "<matplotlib.collections.PathCollection at 0x2194abe5a58>"
      ]
     },
     "execution_count": 29,
     "metadata": {},
     "output_type": "execute_result"
    },
    {
     "data": {
      "image/png": "[encoded data removed]",
      "text/plain": [
       "<Figure size 432x288 with 1 Axes>"
      ]
     },
     "metadata": {
      "needs_background": "light"
     },
     "output_type": "display_data"
    }
   ],
   "source": [
    "data = load_iris()\n",
    "x = data.data[:, :2]\n",
    "y = data.target\n",
    "\n",
    "plt.scatter(x[:, 0], x[:, 1], c=y, cmap='Set2')"
   ]
  },
  {
   "cell_type": "code",
   "execution_count": null,
   "metadata": {},
   "outputs": [],
   "source": []
  }
 ],
 "metadata": {
  "colab": {
   "collapsed_sections": [],
   "name": "LSDS Intro Assignment 1 - Getting Started with Python.ipynb",
   "provenance": [],
   "version": "0.3.2"
  },
  "kernelspec": {
   "display_name": "Python 3",
   "language": "python",
   "name": "python3"
  },
  "language_info": {
   "codemirror_mode": {
    "name": "ipython",
    "version": 3
   },
   "file_extension": ".py",
   "mimetype": "text/x-python",
   "name": "python",
   "nbconvert_exporter": "python",
   "pygments_lexer": "ipython3",
   "version": "3.6.2"
  }
 },
 "nbformat": 4,
 "nbformat_minor": 1
}
